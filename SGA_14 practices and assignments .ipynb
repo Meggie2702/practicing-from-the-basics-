{
 "cells": [
  {
   "cell_type": "code",
   "execution_count": 2,
   "id": "b6d99184",
   "metadata": {
    "scrolled": true
   },
   "outputs": [
    {
     "name": "stdout",
     "output_type": "stream",
     "text": [
      "Variable   Type        Data/Info\n",
      "--------------------------------\n",
      "add_sum    function    <function add_sum at 0xaccb5df0>\n"
     ]
    }
   ],
   "source": [
    "def add_sum (a,b,c):\n",
    "  return  a+b+c \n",
    "add_sum (34,5,7)\n",
    "%whos"
   ]
  },
  {
   "cell_type": "code",
   "execution_count": 5,
   "id": "5d6a9d10",
   "metadata": {},
   "outputs": [
    {
     "name": "stdout",
     "output_type": "stream",
     "text": [
      "My name is Margaret\n",
      "I was born in Kano\n",
      " my hobby is cooking\n"
     ]
    }
   ],
   "source": [
    "#the importance of indentation \n",
    "def myself (name):\n",
    "    print ('My name is ' + name )\n",
    "    print ('I was born in Kano')\n",
    "    print (' my hobby is cooking')\n",
    "    \n",
    "    \n",
    "myself ('Margaret')\n",
    "    "
   ]
  },
  {
   "cell_type": "code",
   "execution_count": 33,
   "id": "4501e0c9",
   "metadata": {},
   "outputs": [
    {
     "name": "stdout",
     "output_type": "stream",
     "text": [
      "welcome to carify\n",
      "seems you are going to   bahamas  today \n"
     ]
    }
   ],
   "source": [
    "#details about ordering a ride for a trip\n",
    "def trip_welcome (location):\n",
    "    print (\"welcome to carify\")\n",
    "    print (\"seems you are going to \" + \" \" + location +  \" today \" )\n",
    "    \n",
    "trip_welcome (\" bahamas \")\n",
    "    "
   ]
  },
  {
   "cell_type": "code",
   "execution_count": 3,
   "id": "4184b28f",
   "metadata": {},
   "outputs": [
    {
     "name": "stdout",
     "output_type": "stream",
     "text": [
      "Variable   Type        Data/Info\n",
      "--------------------------------\n",
      "add_sum    function    <function add_sum at 0xaccb5df0>\n",
      "get_min    function    <function get_min at 0xaccb5ad8>\n",
      "lst        list        n=9\n"
     ]
    }
   ],
   "source": [
    "#getting the minimum number\n",
    "def get_min(nums):\n",
    "    min_num= float ('inf')\n",
    "    for num in nums:\n",
    "        if num < min_num:\n",
    "            min_num= num \n",
    "            return min_num\n",
    "lst= [20,3,8,15,90,34,6,19,7]\n",
    "get_min (lst)\n",
    "%whos\n"
   ]
  },
  {
   "cell_type": "code",
   "execution_count": 14,
   "id": "27244f48",
   "metadata": {},
   "outputs": [
    {
     "data": {
      "text/plain": [
       "array([91, 16, 96])"
      ]
     },
     "execution_count": 14,
     "metadata": {},
     "output_type": "execute_result"
    }
   ],
   "source": [
    "#import library\n",
    "from numpy import random \n",
    "\n",
    "random.seed(20)\n",
    "y= random.randint(1,100,3)\n",
    "y\n"
   ]
  },
  {
   "cell_type": "code",
   "execution_count": 16,
   "id": "07653ede",
   "metadata": {},
   "outputs": [
    {
     "name": "stdout",
     "output_type": "stream",
     "text": [
      "{'t': 1, 'o': 1, 'm': 1, 'a': 1, 'e': 1, 's': 2}\n"
     ]
    }
   ],
   "source": [
    "#creating a dictionary through selection\n",
    "word = 'tomatoes' \n",
    "d = {}\n",
    "#d= dict()\n",
    "for c in word:\n",
    "    if c not in d:\n",
    "        d[c]=1\n",
    "else:\n",
    "            d[c]= d[c] + 1\n",
    "print (d)"
   ]
  },
  {
   "cell_type": "code",
   "execution_count": 7,
   "id": "534f2e52",
   "metadata": {},
   "outputs": [
    {
     "name": "stdout",
     "output_type": "stream",
     "text": [
      "20\n",
      "50\n",
      "70\n",
      "100\n"
     ]
    }
   ],
   "source": [
    "#Access the individual keys in the dictionary object \n",
    "food = {\"rice\":20, \"beans\":50, \"banana\":70, \"orange\":100}\n",
    "food [\"rice\"]\n",
    "\n",
    "print (food [\"rice\"])\n",
    "\n",
    "print (food [\"beans\"])\n",
    "\n",
    "print (food [\"banana\"])\n",
    "\n",
    "print (food [\"orange\"])\n",
    "\n",
    "      \n",
    "\n",
    "\n"
   ]
  },
  {
   "cell_type": "code",
   "execution_count": 5,
   "id": "bf59d1f1",
   "metadata": {},
   "outputs": [],
   "source": [
    "x=3\n"
   ]
  },
  {
   "cell_type": "markdown",
   "id": "a6d95463",
   "metadata": {},
   "source": [
    "#Variables"
   ]
  },
  {
   "cell_type": "code",
   "execution_count": 6,
   "id": "da73bb87",
   "metadata": {},
   "outputs": [
    {
     "name": "stdout",
     "output_type": "stream",
     "text": [
      "<class 'int'>\n"
     ]
    }
   ],
   "source": [
    "print(type(x))\n"
   ]
  },
  {
   "cell_type": "code",
   "execution_count": 7,
   "id": "cc0ba0b4",
   "metadata": {},
   "outputs": [
    {
     "name": "stdout",
     "output_type": "stream",
     "text": [
      "Variable   Type        Data/Info\n",
      "--------------------------------\n",
      "a          int         2\n",
      "add_sum    function    <function add_sum at 0xaccb5df0>\n",
      "b          float       4.5\n",
      "c          int         6\n",
      "d          int         -8\n",
      "e          float       0.6\n",
      "f          int         3\n",
      "get_min    function    <function get_min at 0xaccb5ad8>\n",
      "lst        list        n=9\n",
      "x          int         3\n"
     ]
    }
   ],
   "source": [
    "a,b,c,d,e,f = 2,4.5,6,-8,0.6,3\n",
    "%whos\n"
   ]
  },
  {
   "cell_type": "code",
   "execution_count": 9,
   "id": "b52147b1",
   "metadata": {},
   "outputs": [
    {
     "name": "stdout",
     "output_type": "stream",
     "text": [
      "<class 'int'>\n"
     ]
    }
   ],
   "source": [
    "print(type(a))\n"
   ]
  },
  {
   "cell_type": "code",
   "execution_count": 17,
   "id": "caa12d20",
   "metadata": {},
   "outputs": [
    {
     "name": "stdout",
     "output_type": "stream",
     "text": [
      "peter 30\n",
      "paul 25\n",
      "John 32\n",
      "Mary 19\n",
      "None\n"
     ]
    }
   ],
   "source": [
    "#write a function that prints each key with its corresponding value \n",
    "\n",
    "def value_key (dict):\n",
    "    for key in dict:\n",
    "        print (key, dict[key])\n",
    "     \n",
    "age_of_students= {\"peter\":30, \"paul\":25, \"John\":32, \"Mary\":19}\n",
    "\n",
    "print (value_key(age_of_students))\n"
   ]
  },
  {
   "cell_type": "code",
   "execution_count": 5,
   "id": "e6158d7e",
   "metadata": {},
   "outputs": [
    {
     "name": "stdout",
     "output_type": "stream",
     "text": [
      "(1, 2, 3, 4)\n",
      "Variable   Type     Data/Info\n",
      "-----------------------------\n",
      "abcd       tuple    n=4\n"
     ]
    }
   ],
   "source": [
    "abcd = 1,2,3,4\n",
    "print (abcd)\n",
    "%whos\n"
   ]
  },
  {
   "cell_type": "code",
   "execution_count": 6,
   "id": "a6533f55",
   "metadata": {},
   "outputs": [
    {
     "ename": "NameError",
     "evalue": "name 'abcd' is not defined",
     "output_type": "error",
     "traceback": [
      "\u001b[0;31m---------------------------------------------------------------------------\u001b[0m",
      "\u001b[0;31mNameError\u001b[0m                                 Traceback (most recent call last)",
      "Cell \u001b[0;32mIn [6], line 2\u001b[0m\n\u001b[1;32m      1\u001b[0m \u001b[38;5;28;01mdel\u001b[39;00m abcd\n\u001b[0;32m----> 2\u001b[0m \u001b[38;5;28mprint\u001b[39m(\u001b[43mabcd\u001b[49m)\n",
      "\u001b[0;31mNameError\u001b[0m: name 'abcd' is not defined"
     ]
    }
   ],
   "source": [
    "#understanding the function of deleting and the calling to print \n",
    "del abcd\n",
    "print(abcd)"
   ]
  },
  {
   "cell_type": "code",
   "execution_count": 14,
   "id": "31f3df12",
   "metadata": {},
   "outputs": [
    {
     "name": "stdout",
     "output_type": "stream",
     "text": [
      "(2+3j)\n",
      "Variable   Type       Data/Info\n",
      "-------------------------------\n",
      "c          complex    (2+3j)\n"
     ]
    }
   ],
   "source": [
    "c=2+3j\n",
    "print (c)\n",
    "%whos\n"
   ]
  },
  {
   "cell_type": "code",
   "execution_count": 15,
   "id": "529c380c",
   "metadata": {},
   "outputs": [
    {
     "name": "stdout",
     "output_type": "stream",
     "text": [
      "Variable   Type       Data/Info\n",
      "-------------------------------\n",
      "c          complex    (2+3j)\n"
     ]
    }
   ],
   "source": [
    "%whos"
   ]
  },
  {
   "cell_type": "code",
   "execution_count": 16,
   "id": "0b41b52b",
   "metadata": {},
   "outputs": [
    {
     "data": {
      "text/plain": [
       "complex"
      ]
     },
     "execution_count": 16,
     "metadata": {},
     "output_type": "execute_result"
    }
   ],
   "source": [
    "type (c)"
   ]
  },
  {
   "cell_type": "code",
   "execution_count": 18,
   "id": "ddf8ec43",
   "metadata": {},
   "outputs": [
    {
     "data": {
      "text/plain": [
       "complex"
      ]
     },
     "execution_count": 18,
     "metadata": {},
     "output_type": "execute_result"
    }
   ],
   "source": [
    "_"
   ]
  },
  {
   "cell_type": "markdown",
   "id": "fa4d3bd1",
   "metadata": {},
   "source": [
    "a+b=9\n"
   ]
  },
  {
   "cell_type": "markdown",
   "id": "87aec900",
   "metadata": {},
   "source": [
    "BOOL"
   ]
  },
  {
   "cell_type": "code",
   "execution_count": 20,
   "id": "870b4fb1",
   "metadata": {},
   "outputs": [
    {
     "name": "stdout",
     "output_type": "stream",
     "text": [
      "Variable   Type    Data/Info\n",
      "----------------------------\n",
      "a          bool    True\n",
      "b          bool    True\n",
      "c          bool    False\n"
     ]
    }
   ],
   "source": [
    "a= True\n",
    "b= True \n",
    "c=False \n",
    "%whos"
   ]
  },
  {
   "cell_type": "code",
   "execution_count": 21,
   "id": "3047b10c",
   "metadata": {},
   "outputs": [
    {
     "name": "stdout",
     "output_type": "stream",
     "text": [
      "True\n",
      "True\n",
      "False\n",
      "False\n",
      "True\n",
      "True\n",
      "True\n"
     ]
    }
   ],
   "source": [
    "print ( a and b)\n",
    "print (a or b)\n",
    "print (a and c)\n",
    "print ( b and c)\n",
    "print (a or c)\n",
    "print (a or c)\n",
    "print (a and b or c)"
   ]
  },
  {
   "cell_type": "code",
   "execution_count": 22,
   "id": "21e6c3fb",
   "metadata": {},
   "outputs": [
    {
     "name": "stdout",
     "output_type": "stream",
     "text": [
      "True\n"
     ]
    }
   ],
   "source": [
    "p = a and b \n",
    "print (p)"
   ]
  },
  {
   "cell_type": "code",
   "execution_count": 23,
   "id": "5ea5fb0b",
   "metadata": {},
   "outputs": [
    {
     "data": {
      "text/plain": [
       "False"
      ]
     },
     "execution_count": 23,
     "metadata": {},
     "output_type": "execute_result"
    }
   ],
   "source": [
    "not (p)\n"
   ]
  },
  {
   "cell_type": "code",
   "execution_count": 24,
   "id": "a9890010",
   "metadata": {},
   "outputs": [
    {
     "data": {
      "text/plain": [
       "bool"
      ]
     },
     "execution_count": 24,
     "metadata": {},
     "output_type": "execute_result"
    }
   ],
   "source": [
    "type(p)\n"
   ]
  },
  {
   "cell_type": "code",
   "execution_count": 25,
   "id": "bcd03ef3",
   "metadata": {},
   "outputs": [
    {
     "name": "stdout",
     "output_type": "stream",
     "text": [
      "Variable   Type    Data/Info\n",
      "----------------------------\n",
      "a          bool    True\n",
      "b          bool    True\n",
      "c          bool    False\n",
      "p          bool    True\n"
     ]
    }
   ],
   "source": [
    "%whos"
   ]
  },
  {
   "cell_type": "code",
   "execution_count": 26,
   "id": "3765c1f5",
   "metadata": {},
   "outputs": [
    {
     "data": {
      "text/plain": [
       "False"
      ]
     },
     "execution_count": 26,
     "metadata": {},
     "output_type": "execute_result"
    }
   ],
   "source": [
    "not ((a and b) and not(c))\n"
   ]
  },
  {
   "cell_type": "code",
   "execution_count": 27,
   "id": "e58442b7",
   "metadata": {},
   "outputs": [
    {
     "data": {
      "text/plain": [
       "True"
      ]
     },
     "execution_count": 27,
     "metadata": {},
     "output_type": "execute_result"
    }
   ],
   "source": [
    "not (c and a)"
   ]
  },
  {
   "cell_type": "code",
   "execution_count": 31,
   "id": "147f9c9a",
   "metadata": {},
   "outputs": [
    {
     "name": "stdout",
     "output_type": "stream",
     "text": [
      "False\n"
     ]
    }
   ],
   "source": [
    "g = not ((c or a) or (b and c) and (a and b))\n",
    "print (g)\n"
   ]
  },
  {
   "cell_type": "code",
   "execution_count": 32,
   "id": "e5665107",
   "metadata": {},
   "outputs": [
    {
     "name": "stdout",
     "output_type": "stream",
     "text": [
      "False\n"
     ]
    }
   ],
   "source": [
    "print (g)\n",
    "\n"
   ]
  },
  {
   "cell_type": "code",
   "execution_count": 33,
   "id": "ae02dd6f",
   "metadata": {},
   "outputs": [
    {
     "name": "stdout",
     "output_type": "stream",
     "text": [
      "Variable   Type    Data/Info\n",
      "----------------------------\n",
      "a          bool    True\n",
      "b          bool    True\n",
      "c          bool    False\n",
      "g          bool    False\n",
      "p          bool    True\n"
     ]
    }
   ],
   "source": [
    "%whos\n"
   ]
  },
  {
   "cell_type": "code",
   "execution_count": 35,
   "id": "a1a4c418",
   "metadata": {},
   "outputs": [
    {
     "data": {
      "text/plain": [
       "True"
      ]
     },
     "execution_count": 35,
     "metadata": {},
     "output_type": "execute_result"
    }
   ],
   "source": [
    "k= 5\n",
    "h= 5\n",
    "h==k"
   ]
  },
  {
   "cell_type": "code",
   "execution_count": 36,
   "id": "3f8fff7a",
   "metadata": {},
   "outputs": [
    {
     "data": {
      "text/plain": [
       "int"
      ]
     },
     "execution_count": 36,
     "metadata": {},
     "output_type": "execute_result"
    }
   ],
   "source": [
    "type (k)\n"
   ]
  },
  {
   "cell_type": "code",
   "execution_count": 37,
   "id": "24ac77e7",
   "metadata": {},
   "outputs": [
    {
     "name": "stdout",
     "output_type": "stream",
     "text": [
      "Variable   Type    Data/Info\n",
      "----------------------------\n",
      "a          bool    True\n",
      "b          bool    True\n",
      "c          bool    False\n",
      "g          bool    False\n",
      "h          int     5\n",
      "k          int     5\n",
      "p          bool    True\n"
     ]
    }
   ],
   "source": [
    "%whos\n"
   ]
  },
  {
   "cell_type": "code",
   "execution_count": 38,
   "id": "6b77f3dd",
   "metadata": {},
   "outputs": [
    {
     "data": {
      "text/plain": [
       "True"
      ]
     },
     "execution_count": 38,
     "metadata": {},
     "output_type": "execute_result"
    }
   ],
   "source": [
    "q=8\n",
    "h!=q"
   ]
  },
  {
   "cell_type": "code",
   "execution_count": 39,
   "id": "f718bdc6",
   "metadata": {},
   "outputs": [
    {
     "data": {
      "text/plain": [
       "False"
      ]
     },
     "execution_count": 39,
     "metadata": {},
     "output_type": "execute_result"
    }
   ],
   "source": [
    "h==g"
   ]
  },
  {
   "cell_type": "code",
   "execution_count": 40,
   "id": "4206df95",
   "metadata": {},
   "outputs": [
    {
     "data": {
      "text/plain": [
       "True"
      ]
     },
     "execution_count": 40,
     "metadata": {},
     "output_type": "execute_result"
    }
   ],
   "source": [
    "h<=q"
   ]
  },
  {
   "cell_type": "code",
   "execution_count": 43,
   "id": "9db616a5",
   "metadata": {},
   "outputs": [
    {
     "data": {
      "text/plain": [
       "False"
      ]
     },
     "execution_count": 43,
     "metadata": {},
     "output_type": "execute_result"
    }
   ],
   "source": [
    "x=4\n",
    "y=7\n",
    "j=-6\n",
    "l= 0.6\n",
    "t = x==l \n",
    "\n",
    "x < j"
   ]
  },
  {
   "cell_type": "code",
   "execution_count": 44,
   "id": "ed352f56",
   "metadata": {},
   "outputs": [
    {
     "data": {
      "text/plain": [
       "bool"
      ]
     },
     "execution_count": 44,
     "metadata": {},
     "output_type": "execute_result"
    }
   ],
   "source": [
    "type (t)\n"
   ]
  },
  {
   "cell_type": "code",
   "execution_count": 45,
   "id": "f93ec23d",
   "metadata": {},
   "outputs": [
    {
     "name": "stdout",
     "output_type": "stream",
     "text": [
      "Variable   Type     Data/Info\n",
      "-----------------------------\n",
      "a          bool     True\n",
      "b          bool     True\n",
      "c          bool     False\n",
      "g          bool     False\n",
      "h          int      5\n",
      "j          int      -6\n",
      "k          int      5\n",
      "l          float    0.6\n",
      "p          bool     True\n",
      "q          int      8\n",
      "t          bool     False\n",
      "x          int      4\n",
      "y          int      7\n"
     ]
    }
   ],
   "source": [
    "%whos\n"
   ]
  },
  {
   "cell_type": "code",
   "execution_count": null,
   "id": "bd548b46",
   "metadata": {},
   "outputs": [],
   "source": []
  }
 ],
 "metadata": {
  "kernelspec": {
   "display_name": "Python 3 (ipykernel)",
   "language": "python",
   "name": "python3"
  },
  "language_info": {
   "codemirror_mode": {
    "name": "ipython",
    "version": 3
   },
   "file_extension": ".py",
   "mimetype": "text/x-python",
   "name": "python",
   "nbconvert_exporter": "python",
   "pygments_lexer": "ipython3",
   "version": "3.9.7"
  }
 },
 "nbformat": 4,
 "nbformat_minor": 5
}
